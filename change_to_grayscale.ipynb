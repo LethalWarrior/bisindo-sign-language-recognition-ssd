{
 "cells": [
  {
   "cell_type": "code",
   "execution_count": 1,
   "id": "e135fff2",
   "metadata": {},
   "outputs": [],
   "source": [
    "import cv2\n",
    "from os import listdir, makedirs\n",
    "from os.path import isfile, join"
   ]
  },
  {
   "cell_type": "code",
   "execution_count": 10,
   "metadata": {},
   "outputs": [],
   "source": [
    "base_folder = r'.\\workspace\\images'"
   ]
  },
  {
   "cell_type": "code",
   "execution_count": 15,
   "metadata": {},
   "outputs": [],
   "source": [
    "for image_folders in listdir(base_folder):\n",
    "    for class_folders in listdir(base_folder+'\\{}'.format(image_folders)):\n",
    "        path = base_folder+'\\{}\\{}'.format(image_folders, class_folders)\n",
    "        dstpath = path+'\\grayscale'\n",
    "        \n",
    "        try:\n",
    "            makedirs(dstpath)\n",
    "        except:\n",
    "            print (\"Directory already exist\")\n",
    "\n",
    "        #Folder won't used\n",
    "        files = [f for f in listdir(path) if isfile(join(path,f))] \n",
    "\n",
    "        for image in files:\n",
    "            try:\n",
    "                img = cv2.imread(os.path.join(path,image))\n",
    "                gray = cv2.cvtColor(img,cv2.COLOR_BGR2GRAY)\n",
    "                dstPath = join(dstpath,image)\n",
    "                cv2.imwrite(dstPath,gray)\n",
    "            except:\n",
    "                print (\"{} is not converted\".format(image))"
   ]
  }
 ],
 "metadata": {
  "interpreter": {
   "hash": "c9da33951085a04059177910d982ec2599ca5814121e98cacb5ffc62ca62bfe9"
  },
  "kernelspec": {
   "display_name": "Python 3.8.10 64-bit ('tensorflow_env': conda)",
   "name": "python3"
  },
  "language_info": {
   "codemirror_mode": {
    "name": "ipython",
    "version": 3
   },
   "file_extension": ".py",
   "mimetype": "text/x-python",
   "name": "python",
   "nbconvert_exporter": "python",
   "pygments_lexer": "ipython3",
   "version": "3.8.10"
  }
 },
 "nbformat": 4,
 "nbformat_minor": 5
}
